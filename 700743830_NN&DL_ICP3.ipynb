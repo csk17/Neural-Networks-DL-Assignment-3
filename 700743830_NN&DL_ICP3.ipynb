{
 "cells": [
  {
   "cell_type": "code",
   "execution_count": 9,
   "id": "ddc3fbfc",
   "metadata": {},
   "outputs": [
    {
     "name": "stdout",
     "output_type": "stream",
     "text": [
      "8333.333333333334\n",
      "10000.0\n",
      "6000.0\n"
     ]
    }
   ],
   "source": [
    "class Employee:\n",
    "    # Create a data member to count the number of Employees\n",
    "    count = 0\n",
    "    \n",
    "    # Create a constructor to initialize name, family, salary, department\n",
    "    def __init__(self, name, family, salary, department):\n",
    "        self.name = name\n",
    "        self.family = family\n",
    "        self.salary = salary\n",
    "        self.department = department\n",
    "        Employee.count += 1\n",
    "    \n",
    "    # Create a function to average salary\n",
    "    def average_salary(self):\n",
    "        return self.salary / Employee.count\n",
    "\n",
    "# Create a Fulltime Employee class and it should inherit the properties of Employee class\n",
    "class FulltimeEmployee(Employee):\n",
    "    pass\n",
    "\n",
    "# Create the instances of Fulltime Employee class and Employee class \n",
    "e1 = Employee(\"Sai Kishore\", \"Jinks\", 25000, \"IT\")\n",
    "e2 = Employee(\"Varun Kumar\", \"Jinks\", 30000, \"IT\")\n",
    "e3 = FulltimeEmployee(\"Sai Sasank\", \"Jinks\", 18000, \"IT\")\n",
    "\n",
    "# Call their member functions\n",
    "print(e1.average_salary())\n",
    "print(e2.average_salary())\n",
    "print(e3.average_salary())"
   ]
  },
  {
   "cell_type": "code",
   "execution_count": 10,
   "id": "be71642b",
   "metadata": {},
   "outputs": [
    {
     "name": "stdout",
     "output_type": "stream",
     "text": [
      " array after reshaping to (4,5) \n",
      "\n",
      "[[17.28847989 15.45151858 14.27121082 13.29881923 18.91028431]\n",
      " [15.72009924  7.82201761 18.20295097 19.69202752  9.39765105]\n",
      " [15.37598663 11.08865326  6.64442507 12.16503895  8.90206331]\n",
      " [14.32915987 13.60937465 13.60256727 13.11413613  6.98207399]]\n",
      "\n",
      "\n",
      " replacing the maximum value in each row with 0  \n",
      "\n",
      "[[17.28847989 15.45151858 14.27121082 13.29881923  0.        ]\n",
      " [15.72009924  7.82201761 18.20295097  0.          9.39765105]\n",
      " [ 0.         11.08865326  6.64442507 12.16503895  8.90206331]\n",
      " [ 0.         13.60937465 13.60256727 13.11413613  6.98207399]]\n"
     ]
    }
   ],
   "source": [
    "import numpy as np\n",
    "\n",
    "# Generate a random vector of size 20 with float numbers between 1 and 20\n",
    "random_vector = np.random.uniform(1, 20, 20)\n",
    "\n",
    "\n",
    "# Reshape the array to 4 by 5\n",
    "reshaped_array = random_vector.reshape(4, 5)\n",
    "print(\" array after reshaping to (4,5) \\n\")\n",
    "print(reshaped_array)\n",
    "\n",
    "# Find the index of the maximum value in each row\n",
    "max_values = np.argmax(reshaped_array, axis=1)\n",
    "print(\"\\n\")\n",
    "# Replace the maximum value in each row with 0\n",
    "reshaped_array[np.arange(reshaped_array.shape[0]), max_values] = 0\n",
    "print(\" replacing the maximum value in each row with 0  \\n\")\n",
    "print(reshaped_array)"
   ]
  },
  {
   "cell_type": "code",
   "execution_count": null,
   "id": "3ded520d",
   "metadata": {},
   "outputs": [],
   "source": []
  }
 ],
 "metadata": {
  "kernelspec": {
   "display_name": "Python 3 (ipykernel)",
   "language": "python",
   "name": "python3"
  },
  "language_info": {
   "codemirror_mode": {
    "name": "ipython",
    "version": 3
   },
   "file_extension": ".py",
   "mimetype": "text/x-python",
   "name": "python",
   "nbconvert_exporter": "python",
   "pygments_lexer": "ipython3",
   "version": "3.9.12"
  }
 },
 "nbformat": 4,
 "nbformat_minor": 5
}
